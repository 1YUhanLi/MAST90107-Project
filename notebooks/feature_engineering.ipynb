{
 "cells": [
  {
   "cell_type": "code",
   "execution_count": 31,
   "id": "192b8505",
   "metadata": {},
   "outputs": [],
   "source": [
    "# Import necessary libraries\n",
    "import pandas as pd\n",
    "import numpy as np\n",
    "from datetime import datetime, timedelta\n",
    "import matplotlib.pyplot as plt\n",
    "import seaborn as sns\n",
    "from typing import Optional, Tuple\n",
    "from pathlib import Path\n",
    "import re"
   ]
  },
  {
   "cell_type": "markdown",
   "id": "9240fcc0",
   "metadata": {},
   "source": [
    "# Load Cleaned Data"
   ]
  },
  {
   "cell_type": "code",
   "execution_count": 32,
   "id": "41b98a4b",
   "metadata": {},
   "outputs": [],
   "source": [
    "cleaned_data_path = r'../data/processed/combined_cleaned.csv'\n",
    "df_cleaned = pd.read_csv(cleaned_data_path)"
   ]
  },
  {
   "cell_type": "code",
   "execution_count": 33,
   "id": "727c7dbd",
   "metadata": {},
   "outputs": [
    {
     "name": "stdout",
     "output_type": "stream",
     "text": [
      "Channel column exists: True\n",
      "Channel value counts (top):\n",
      "Channel\n",
      "RFP    27019\n",
      "CFP    15246\n",
      "YFP    13784\n",
      "NaN     4593\n",
      "R-Y     2089\n",
      "Name: count, dtype: int64\n",
      "                     SOURCE_FILE Channel\n",
      "0  160727_k5_CFP_16-32_spots.csv     CFP\n",
      "1  160727_k5_CFP_16-32_spots.csv     CFP\n",
      "2  160727_k5_CFP_16-32_spots.csv     CFP\n",
      "3  160727_k5_CFP_16-32_spots.csv     CFP\n",
      "4  160727_k5_CFP_16-32_spots.csv     CFP\n"
     ]
    }
   ],
   "source": [
    "# 0) normalize column names like 'chanel', 'CHANNEL' -> 'Channel'\n",
    "rename_map = {}\n",
    "for c in list(df_cleaned.columns):\n",
    "    if c.lower().strip() in (\"channel\", \"chanel\") and c != \"Channel\":\n",
    "        rename_map[c] = \"Channel\"\n",
    "if rename_map:\n",
    "    df_cleaned.rename(columns=rename_map, inplace=True)\n",
    "\n",
    "# 1) locate SOURCE_FILE robustly\n",
    "sf_candidates = [c for c in df_cleaned.columns if c.lower().strip() == \"source_file\"]\n",
    "if not sf_candidates:\n",
    "    raise KeyError(\"SOURCE_FILE column not found.\")\n",
    "sf_col = sf_candidates[0]\n",
    "sf = df_cleaned[sf_col].astype(str)\n",
    "\n",
    "# 2) (re)build Channel from filename for missing values (do not overwrite existing non-null)\n",
    "_pat_single = re.compile(r'(?:^|[_-])(cfp|rfp|yfp)(?=[_\\-\\d]|$)', re.IGNORECASE)\n",
    "_pat_compo  = re.compile(r'(?:^|[_-])r[-_]?y(?=[_\\-\\d]|$)', re.IGNORECASE)\n",
    "\n",
    "def channel_from_name(name: str):\n",
    "    s = Path(str(name)).stem.lower()\n",
    "    m = _pat_single.search(s)\n",
    "    if m:\n",
    "        return m.group(1).upper()\n",
    "    if _pat_compo.search(s):\n",
    "        return \"R-Y\"\n",
    "    return np.nan\n",
    "\n",
    "new_channel = sf.apply(channel_from_name)\n",
    "if \"Channel\" in df_cleaned.columns:\n",
    "    miss = df_cleaned[\"Channel\"].isna()\n",
    "    df_cleaned.loc[miss, \"Channel\"] = new_channel[miss]\n",
    "else:\n",
    "    df_cleaned[\"Channel\"] = new_channel\n",
    "\n",
    "# 3) drop ChannelSource if present (we don't use it anymore)\n",
    "if \"ChannelSource\" in df_cleaned.columns:\n",
    "    df_cleaned.drop(columns=[\"ChannelSource\"], inplace=True)\n",
    "\n",
    "# 4) sanity print\n",
    "print(\"Channel column exists:\", \"Channel\" in df_cleaned.columns)\n",
    "print(\"Channel value counts (top):\")\n",
    "print(df_cleaned[\"Channel\"].value_counts(dropna=False).head(10))\n",
    "print(df_cleaned[[sf_col, \"Channel\"]].head())"
   ]
  },
  {
   "cell_type": "code",
   "execution_count": 34,
   "id": "f9963488",
   "metadata": {},
   "outputs": [
    {
     "data": {
      "text/html": [
       "<div>\n",
       "<style scoped>\n",
       "    .dataframe tbody tr th:only-of-type {\n",
       "        vertical-align: middle;\n",
       "    }\n",
       "\n",
       "    .dataframe tbody tr th {\n",
       "        vertical-align: top;\n",
       "    }\n",
       "\n",
       "    .dataframe thead th {\n",
       "        text-align: right;\n",
       "    }\n",
       "</style>\n",
       "<table border=\"1\" class=\"dataframe\">\n",
       "  <thead>\n",
       "    <tr style=\"text-align: right;\">\n",
       "      <th></th>\n",
       "      <th>LABEL</th>\n",
       "      <th>ID</th>\n",
       "      <th>TRACK_ID</th>\n",
       "      <th>QUALITY</th>\n",
       "      <th>POSITION_X</th>\n",
       "      <th>POSITION_Y</th>\n",
       "      <th>POSITION_T</th>\n",
       "      <th>FRAME</th>\n",
       "      <th>RADIUS</th>\n",
       "      <th>VISIBILITY</th>\n",
       "      <th>...</th>\n",
       "      <th>ELLIPSE_MINOR</th>\n",
       "      <th>ELLIPSE_THETA</th>\n",
       "      <th>ELLIPSE_ASPECTRATIO</th>\n",
       "      <th>AREA</th>\n",
       "      <th>PERIMETER</th>\n",
       "      <th>CIRCULARITY</th>\n",
       "      <th>SOLIDITY</th>\n",
       "      <th>SHAPE_INDEX</th>\n",
       "      <th>SOURCE_FILE</th>\n",
       "      <th>Channel</th>\n",
       "    </tr>\n",
       "  </thead>\n",
       "  <tbody>\n",
       "    <tr>\n",
       "      <th>0</th>\n",
       "      <td>ID2945</td>\n",
       "      <td>2945</td>\n",
       "      <td>0</td>\n",
       "      <td>209.0</td>\n",
       "      <td>145.948467</td>\n",
       "      <td>95.621082</td>\n",
       "      <td>3.0</td>\n",
       "      <td>3</td>\n",
       "      <td>8.110457</td>\n",
       "      <td>1</td>\n",
       "      <td>...</td>\n",
       "      <td>7.479732</td>\n",
       "      <td>1.179736</td>\n",
       "      <td>1.401931</td>\n",
       "      <td>206.652412</td>\n",
       "      <td>71.594489</td>\n",
       "      <td>0.506630</td>\n",
       "      <td>0.853061</td>\n",
       "      <td>4.980344</td>\n",
       "      <td>160727_k5_CFP_16-32_spots.csv</td>\n",
       "      <td>CFP</td>\n",
       "    </tr>\n",
       "    <tr>\n",
       "      <th>1</th>\n",
       "      <td>ID2946</td>\n",
       "      <td>2946</td>\n",
       "      <td>0</td>\n",
       "      <td>220.0</td>\n",
       "      <td>148.047821</td>\n",
       "      <td>94.433312</td>\n",
       "      <td>7.0</td>\n",
       "      <td>7</td>\n",
       "      <td>8.321153</td>\n",
       "      <td>1</td>\n",
       "      <td>...</td>\n",
       "      <td>5.863332</td>\n",
       "      <td>0.908996</td>\n",
       "      <td>2.316572</td>\n",
       "      <td>217.528855</td>\n",
       "      <td>89.493111</td>\n",
       "      <td>0.341309</td>\n",
       "      <td>0.810313</td>\n",
       "      <td>6.067799</td>\n",
       "      <td>160727_k5_CFP_16-32_spots.csv</td>\n",
       "      <td>CFP</td>\n",
       "    </tr>\n",
       "    <tr>\n",
       "      <th>2</th>\n",
       "      <td>ID2947</td>\n",
       "      <td>2947</td>\n",
       "      <td>0</td>\n",
       "      <td>195.0</td>\n",
       "      <td>145.259303</td>\n",
       "      <td>91.481847</td>\n",
       "      <td>11.0</td>\n",
       "      <td>11</td>\n",
       "      <td>7.834106</td>\n",
       "      <td>1</td>\n",
       "      <td>...</td>\n",
       "      <td>5.192997</td>\n",
       "      <td>1.017382</td>\n",
       "      <td>2.432088</td>\n",
       "      <td>192.809667</td>\n",
       "      <td>89.493111</td>\n",
       "      <td>0.302524</td>\n",
       "      <td>0.799180</td>\n",
       "      <td>6.445034</td>\n",
       "      <td>160727_k5_CFP_16-32_spots.csv</td>\n",
       "      <td>CFP</td>\n",
       "    </tr>\n",
       "    <tr>\n",
       "      <th>3</th>\n",
       "      <td>ID2948</td>\n",
       "      <td>2948</td>\n",
       "      <td>0</td>\n",
       "      <td>234.0</td>\n",
       "      <td>145.152217</td>\n",
       "      <td>91.656074</td>\n",
       "      <td>21.0</td>\n",
       "      <td>21</td>\n",
       "      <td>8.581834</td>\n",
       "      <td>1</td>\n",
       "      <td>...</td>\n",
       "      <td>6.053673</td>\n",
       "      <td>0.832374</td>\n",
       "      <td>1.992784</td>\n",
       "      <td>231.371600</td>\n",
       "      <td>85.515639</td>\n",
       "      <td>0.397584</td>\n",
       "      <td>0.855576</td>\n",
       "      <td>5.621996</td>\n",
       "      <td>160727_k5_CFP_16-32_spots.csv</td>\n",
       "      <td>CFP</td>\n",
       "    </tr>\n",
       "    <tr>\n",
       "      <th>4</th>\n",
       "      <td>ID2951</td>\n",
       "      <td>2951</td>\n",
       "      <td>0</td>\n",
       "      <td>219.0</td>\n",
       "      <td>143.997185</td>\n",
       "      <td>89.188898</td>\n",
       "      <td>12.0</td>\n",
       "      <td>12</td>\n",
       "      <td>8.302220</td>\n",
       "      <td>1</td>\n",
       "      <td>...</td>\n",
       "      <td>5.036212</td>\n",
       "      <td>1.023793</td>\n",
       "      <td>2.747553</td>\n",
       "      <td>216.540087</td>\n",
       "      <td>99.436790</td>\n",
       "      <td>0.275204</td>\n",
       "      <td>0.773852</td>\n",
       "      <td>6.757374</td>\n",
       "      <td>160727_k5_CFP_16-32_spots.csv</td>\n",
       "      <td>CFP</td>\n",
       "    </tr>\n",
       "  </tbody>\n",
       "</table>\n",
       "<p>5 rows × 31 columns</p>\n",
       "</div>"
      ],
      "text/plain": [
       "    LABEL    ID  TRACK_ID  QUALITY  POSITION_X  POSITION_Y  POSITION_T  FRAME  \\\n",
       "0  ID2945  2945         0    209.0  145.948467   95.621082         3.0      3   \n",
       "1  ID2946  2946         0    220.0  148.047821   94.433312         7.0      7   \n",
       "2  ID2947  2947         0    195.0  145.259303   91.481847        11.0     11   \n",
       "3  ID2948  2948         0    234.0  145.152217   91.656074        21.0     21   \n",
       "4  ID2951  2951         0    219.0  143.997185   89.188898        12.0     12   \n",
       "\n",
       "     RADIUS  VISIBILITY  ...  ELLIPSE_MINOR  ELLIPSE_THETA  \\\n",
       "0  8.110457           1  ...       7.479732       1.179736   \n",
       "1  8.321153           1  ...       5.863332       0.908996   \n",
       "2  7.834106           1  ...       5.192997       1.017382   \n",
       "3  8.581834           1  ...       6.053673       0.832374   \n",
       "4  8.302220           1  ...       5.036212       1.023793   \n",
       "\n",
       "   ELLIPSE_ASPECTRATIO        AREA  PERIMETER  CIRCULARITY  SOLIDITY  \\\n",
       "0             1.401931  206.652412  71.594489     0.506630  0.853061   \n",
       "1             2.316572  217.528855  89.493111     0.341309  0.810313   \n",
       "2             2.432088  192.809667  89.493111     0.302524  0.799180   \n",
       "3             1.992784  231.371600  85.515639     0.397584  0.855576   \n",
       "4             2.747553  216.540087  99.436790     0.275204  0.773852   \n",
       "\n",
       "   SHAPE_INDEX                    SOURCE_FILE  Channel  \n",
       "0     4.980344  160727_k5_CFP_16-32_spots.csv      CFP  \n",
       "1     6.067799  160727_k5_CFP_16-32_spots.csv      CFP  \n",
       "2     6.445034  160727_k5_CFP_16-32_spots.csv      CFP  \n",
       "3     5.621996  160727_k5_CFP_16-32_spots.csv      CFP  \n",
       "4     6.757374  160727_k5_CFP_16-32_spots.csv      CFP  \n",
       "\n",
       "[5 rows x 31 columns]"
      ]
     },
     "execution_count": 34,
     "metadata": {},
     "output_type": "execute_result"
    }
   ],
   "source": [
    "df_cleaned.head()"
   ]
  },
  {
   "cell_type": "code",
   "execution_count": 35,
   "id": "acafc234",
   "metadata": {},
   "outputs": [
    {
     "data": {
      "text/plain": [
       "Channel                7.32\n",
       "CONTRAST_CH1           0.00\n",
       "SOURCE_FILE            0.00\n",
       "SHAPE_INDEX            0.00\n",
       "SOLIDITY               0.00\n",
       "CIRCULARITY            0.00\n",
       "PERIMETER              0.00\n",
       "AREA                   0.00\n",
       "ELLIPSE_ASPECTRATIO    0.00\n",
       "ELLIPSE_THETA          0.00\n",
       "ELLIPSE_MINOR          0.00\n",
       "ELLIPSE_MAJOR          0.00\n",
       "ELLIPSE_Y0             0.00\n",
       "ELLIPSE_X0             0.00\n",
       "SNR_CH1                0.00\n",
       "LABEL                  0.00\n",
       "ID                     0.00\n",
       "TOTAL_INTENSITY_CH1    0.00\n",
       "MAX_INTENSITY_CH1      0.00\n",
       "MIN_INTENSITY_CH1      0.00\n",
       "dtype: float64"
      ]
     },
     "execution_count": 35,
     "metadata": {},
     "output_type": "execute_result"
    }
   ],
   "source": [
    "((df_cleaned.isna().sum() / len(df_cleaned) * 100).round(2)\n",
    " .sort_values(ascending=False).head(20))"
   ]
  },
  {
   "cell_type": "code",
   "execution_count": 36,
   "id": "eac8acee",
   "metadata": {},
   "outputs": [
    {
     "name": "stdout",
     "output_type": "stream",
     "text": [
      "Dropped 6682 rows (10.65%) due to missing/invalid Channel (incl. NaN and 'R-Y').\n",
      "Channel counts in CORE:\n",
      " Channel\n",
      "RFP    27019\n",
      "CFP    15246\n",
      "YFP    13784\n",
      "Name: count, dtype: int64\n"
     ]
    }
   ],
   "source": [
    "# === Drop rows with missing/invalid Channel ===\n",
    "valid_channels = {\"CFP\", \"RFP\", \"YFP\"}\n",
    "\n",
    "before = len(df_cleaned)\n",
    "df_core = df_cleaned[df_cleaned[\"Channel\"].isin(valid_channels)].copy()  # keep only clean rows\n",
    "df_core.reset_index(drop=True, inplace=True)\n",
    "after = len(df_core)\n",
    "\n",
    "print(f\"Dropped {before - after} rows ({(before - after)/before:.2%}) \"\n",
    "      f\"due to missing/invalid Channel (incl. NaN and 'R-Y').\")\n",
    "print(\"Channel counts in CORE:\\n\", df_core[\"Channel\"].value_counts())\n",
    "\n",
    "# (optional) save the clean core set\n",
    "# df_core.to_csv(\"../data/processed/analysis_core.csv\", index=False)\n"
   ]
  },
  {
   "cell_type": "code",
   "execution_count": 38,
   "id": "010132a0",
   "metadata": {},
   "outputs": [
    {
     "data": {
      "text/plain": [
       "LABEL                  0.0\n",
       "CONTRAST_CH1           0.0\n",
       "SOURCE_FILE            0.0\n",
       "SHAPE_INDEX            0.0\n",
       "SOLIDITY               0.0\n",
       "CIRCULARITY            0.0\n",
       "PERIMETER              0.0\n",
       "AREA                   0.0\n",
       "ELLIPSE_ASPECTRATIO    0.0\n",
       "ELLIPSE_THETA          0.0\n",
       "ELLIPSE_MINOR          0.0\n",
       "ELLIPSE_MAJOR          0.0\n",
       "ELLIPSE_Y0             0.0\n",
       "ELLIPSE_X0             0.0\n",
       "SNR_CH1                0.0\n",
       "STD_INTENSITY_CH1      0.0\n",
       "ID                     0.0\n",
       "TOTAL_INTENSITY_CH1    0.0\n",
       "MAX_INTENSITY_CH1      0.0\n",
       "MIN_INTENSITY_CH1      0.0\n",
       "dtype: float64"
      ]
     },
     "execution_count": 38,
     "metadata": {},
     "output_type": "execute_result"
    }
   ],
   "source": [
    "((df_core.isna().sum() / len(df_core) * 100).round(2)\n",
    " .sort_values(ascending=False).head(20))"
   ]
  },
  {
   "cell_type": "code",
   "execution_count": 41,
   "id": "16ae3ace",
   "metadata": {},
   "outputs": [
    {
     "name": "stdout",
     "output_type": "stream",
     "text": [
      "Channel\n",
      "RFP    27019\n",
      "CFP    15246\n",
      "YFP    13784\n",
      "NaN     4593\n",
      "R-Y     2089\n",
      "Name: count, dtype: int64\n"
     ]
    }
   ],
   "source": [
    "print(df_cleaned[\"Channel\"].value_counts(dropna=False).head(10))"
   ]
  },
  {
   "cell_type": "code",
   "execution_count": 40,
   "id": "4a0694da",
   "metadata": {},
   "outputs": [
    {
     "name": "stdout",
     "output_type": "stream",
     "text": [
      "Channel\n",
      "RFP    27019\n",
      "CFP    15246\n",
      "YFP    13784\n",
      "Name: count, dtype: int64\n"
     ]
    }
   ],
   "source": [
    "print(df_core[\"Channel\"].value_counts(dropna=False).head(10))"
   ]
  },
  {
   "cell_type": "markdown",
   "id": "f7ed2962",
   "metadata": {},
   "source": []
  }
 ],
 "metadata": {
  "kernelspec": {
   "display_name": "Python 3",
   "language": "python",
   "name": "python3"
  },
  "language_info": {
   "codemirror_mode": {
    "name": "ipython",
    "version": 3
   },
   "file_extension": ".py",
   "mimetype": "text/x-python",
   "name": "python",
   "nbconvert_exporter": "python",
   "pygments_lexer": "ipython3",
   "version": "3.9.6"
  }
 },
 "nbformat": 4,
 "nbformat_minor": 5
}
