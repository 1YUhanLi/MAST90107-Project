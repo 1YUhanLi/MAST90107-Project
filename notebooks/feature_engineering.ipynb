{
 "cells": [
  {
   "cell_type": "markdown",
   "id": "9240fcc0",
   "metadata": {},
   "source": [
    "# Load Cleaned Data"
   ]
  },
  {
   "cell_type": "code",
   "execution_count": null,
   "id": "41b98a4b",
   "metadata": {},
   "outputs": [],
   "source": [
    "cleaned_data_path = r'../data/processed/comined_cleaned.csv'"
   ]
  }
 ],
 "metadata": {
  "language_info": {
   "name": "python"
  }
 },
 "nbformat": 4,
 "nbformat_minor": 5
}
